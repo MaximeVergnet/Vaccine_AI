{
 "cells": [
  {
   "cell_type": "code",
   "execution_count": 32,
   "metadata": {},
   "outputs": [],
   "source": [
    "import numpy as np\n",
    "from sklearn.model_selection import train_test_split\n",
    "from sklearn.preprocessing import StandardScaler\n",
    "from sklearn.linear_model import LinearRegression\n",
    "from sklearn.metrics import accuracy_score\n",
    "from sklearn.multioutput import MultiOutputRegressor\n",
    "\n",
    "import pandas as pd\n"
   ]
  },
  {
   "cell_type": "code",
   "execution_count": 33,
   "metadata": {},
   "outputs": [],
   "source": [
    "input = pd.read_csv('input.csv')\n",
    "output = pd.read_csv('output.csv')\n",
    "\n",
    "rin = input.transpose()\n",
    "rout = output.transpose()\n"
   ]
  },
  {
   "cell_type": "code",
   "execution_count": 39,
   "metadata": {},
   "outputs": [
    {
     "name": "stdout",
     "output_type": "stream",
     "text": [
      "Shape of X_train: (9, 41)\n",
      "Shape of y_train: (9, 56)\n",
      "Model accuracy: -17155.926431070875\n"
     ]
    }
   ],
   "source": [
    "x = rin  # Features\n",
    "y = rout  # Target variable\n",
    "\n",
    "x = np.array(rin)\n",
    "y = np.array(rout)\n",
    "\n",
    "\n",
    "# Split the data into training and testing sets\n",
    "x_train, x_test, y_train, y_test = train_test_split(x, y, test_size=0.2, random_state=42)\n",
    "\n",
    "# Standardize the features (important for perceptron)\n",
    "scaler = StandardScaler()\n",
    "x_train = scaler.fit_transform(x_train)\n",
    "x_test = scaler.transform(x_test)\n",
    "\n",
    "print(\"Shape of X_train:\", x_train.shape)  # Should be (n_samples_train, n_features)\n",
    "print(\"Shape of y_train:\", y_train.shape)  # Should be (n_samples_train, n_outputs)\n",
    "\n",
    "# Initialize the Perceptron\n",
    "linear_regression = LinearRegression()\n",
    "multi_output_regressor = MultiOutputRegressor(linear_regression)\n",
    "\n",
    "\n",
    "# Train the Perceptron\n",
    "multi_output_regressor.fit(x_train, y_train)\n",
    "\n",
    "# Make predictions on the test set\n",
    "y_pred = multi_output_regressor.predict(x_test)\n",
    "\n",
    "# Evaluate the model\n",
    "accuracy = multi_output_regressor.score(x_test, y_test)\n",
    "print(\"Model accuracy:\", accuracy)\n"
   ]
  },
  {
   "cell_type": "code",
   "execution_count": null,
   "metadata": {},
   "outputs": [],
   "source": []
  },
  {
   "cell_type": "code",
   "execution_count": null,
   "metadata": {},
   "outputs": [],
   "source": []
  }
 ],
 "metadata": {
  "kernelspec": {
   "display_name": "Python 3",
   "language": "python",
   "name": "python3"
  },
  "language_info": {
   "codemirror_mode": {
    "name": "ipython",
    "version": 3
   },
   "file_extension": ".py",
   "mimetype": "text/x-python",
   "name": "python",
   "nbconvert_exporter": "python",
   "pygments_lexer": "ipython3",
   "version": "3.11.4"
  }
 },
 "nbformat": 4,
 "nbformat_minor": 2
}
