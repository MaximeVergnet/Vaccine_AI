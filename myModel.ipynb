{
 "cells": [
  {
   "cell_type": "code",
   "execution_count": 22,
   "metadata": {},
   "outputs": [],
   "source": [
    "import numpy as np\n",
    "import pandas as pd\n",
    "import matplotlib.pyplot as plt"
   ]
  },
  {
   "cell_type": "code",
   "execution_count": 35,
   "metadata": {},
   "outputs": [],
   "source": [
    "data = pd.read_csv('2024-10-27 Tam 2016 Data.csv')\n",
    "input = pd.read_csv('input.csv')\n",
    "\n",
    "rin = input.transpose()\n",
    "\n",
    "# Replace 'Mouse_1' with '1' in the 'Subject' column\n",
    "data['Subject'] = data['Subject'].str.replace('Mouse_', '')\n",
    "data['Time'] = data['Time'].str.replace('Day', '')\n",
    "\n",
    "# Convert some column to numeric values\n",
    "data['Subject'] = pd.to_numeric(data['Subject'], errors='coerce')\n",
    "data['Time'] = pd.to_numeric(data['Time'], errors='coerce')\n",
    "data['Binding'] = pd.to_numeric(data['Binding'], errors='coerce')\n",
    "\n",
    "\n",
    "\n"
   ]
  },
  {
   "cell_type": "code",
   "execution_count": 41,
   "metadata": {},
   "outputs": [
    {
     "name": "stdout",
     "output_type": "stream",
     "text": [
      "    Dataset  Subject  Time    Binding                        Vaccine Scheme  \\\n",
      "0  2016 Tam        1     7   0.016577  1wk Exp-inc Prime/Bolus Boost Day 21   \n",
      "1  2016 Tam        1    14  10.471600  1wk Exp-inc Prime/Bolus Boost Day 21   \n",
      "2  2016 Tam        1    21   8.825876  1wk Exp-inc Prime/Bolus Boost Day 21   \n",
      "\n",
      "       Figure  \n",
      "0  Fig1C-Blue  \n",
      "1  Fig1C-Blue  \n",
      "2  Fig1C-Blue  \n"
     ]
    }
   ],
   "source": [
    "mouse1Data = data[(data['Subject'] == 1) & (data['Binding'] < 11)]\n",
    "\n",
    "print(mouse1Data)\n",
    "\n"
   ]
  },
  {
   "cell_type": "code",
   "execution_count": null,
   "metadata": {},
   "outputs": [],
   "source": []
  }
 ],
 "metadata": {
  "kernelspec": {
   "display_name": "Python 3",
   "language": "python",
   "name": "python3"
  },
  "language_info": {
   "codemirror_mode": {
    "name": "ipython",
    "version": 3
   },
   "file_extension": ".py",
   "mimetype": "text/x-python",
   "name": "python",
   "nbconvert_exporter": "python",
   "pygments_lexer": "ipython3",
   "version": "3.11.9"
  }
 },
 "nbformat": 4,
 "nbformat_minor": 2
}
