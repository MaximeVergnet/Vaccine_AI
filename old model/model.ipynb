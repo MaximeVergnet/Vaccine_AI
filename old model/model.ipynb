{
 "cells": [
  {
   "cell_type": "code",
   "execution_count": null,
   "metadata": {},
   "outputs": [],
   "source": [
    "import numpy as np\n",
    "from sklearn.model_selection import train_test_split\n",
    "from sklearn.preprocessing import StandardScaler\n",
    "from sklearn.linear_model import LinearRegression\n",
    "from sklearn.metrics import accuracy_score\n",
    "from sklearn.multioutput import MultiOutputRegressor\n",
    "\n",
    "import pandas as pd\n"
   ]
  },
  {
   "cell_type": "code",
   "execution_count": 1,
   "metadata": {},
   "outputs": [
    {
     "ename": "NameError",
     "evalue": "name 'pd' is not defined",
     "output_type": "error",
     "traceback": [
      "\u001b[31m---------------------------------------------------------------------------\u001b[39m",
      "\u001b[31mNameError\u001b[39m                                 Traceback (most recent call last)",
      "\u001b[36mCell\u001b[39m\u001b[36m \u001b[39m\u001b[32mIn[1]\u001b[39m\u001b[32m, line 1\u001b[39m\n\u001b[32m----> \u001b[39m\u001b[32m1\u001b[39m \u001b[38;5;28minput\u001b[39m = \u001b[43mpd\u001b[49m.read_csv(\u001b[33m'\u001b[39m\u001b[33minput.csv\u001b[39m\u001b[33m'\u001b[39m)\n\u001b[32m      2\u001b[39m output = pd.read_csv(\u001b[33m'\u001b[39m\u001b[33moutput2.csv\u001b[39m\u001b[33m'\u001b[39m)\n\u001b[32m      4\u001b[39m rin = \u001b[38;5;28minput\u001b[39m.transpose()\n",
      "\u001b[31mNameError\u001b[39m: name 'pd' is not defined"
     ]
    }
   ],
   "source": [
    "input = pd.read_csv('input.csv')\n",
    "output = pd.read_csv('output2.csv')\n",
    "\n",
    "rin = input.transpose()\n",
    "rout = output.transpose()\n"
   ]
  },
  {
   "cell_type": "code",
   "execution_count": null,
   "metadata": {},
   "outputs": [
    {
     "name": "stdout",
     "output_type": "stream",
     "text": [
      "Shape of X_train: (9, 41)\n",
      "Shape of y_train: (9, 56)\n",
      "Model accuracy: -8.616879052512425\n"
     ]
    }
   ],
   "source": [
    "x = rin  # Features\n",
    "y = rout  # Target variable\n",
    "\n",
    "x = np.array(rin)\n",
    "y = np.array(rout)\n",
    "\n",
    "\n",
    "# Split the data into training and testing sets\n",
    "x_train, x_test, y_train, y_test = train_test_split(x, y, test_size=0.2)\n",
    "\n",
    "# Standardize the features (important for perceptron)\n",
    "scaler = StandardScaler()\n",
    "x_train = scaler.fit_transform(x_train)\n",
    "x_test = scaler.transform(x_test)\n",
    "\n",
    "print(\"Shape of X_train:\", x_train.shape)  # Should be (n_samples_train, n_features)\n",
    "print(\"Shape of y_train:\", y_train.shape)  # Should be (n_samples_train, n_outputs)\n",
    "\n",
    "# Initialize the Perceptron\n",
    "linear_regression = LinearRegression()\n",
    "multi_output_regressor = MultiOutputRegressor(linear_regression)\n",
    "\n",
    "\n",
    "# Train the Perceptron\n",
    "multi_output_regressor.fit(x_train, y_train)\n",
    "\n",
    "# Make predictions on the test set\n",
    "y_pred = multi_output_regressor.predict(x_test)\n",
    "\n",
    "# Evaluate the model\n",
    "accuracy = multi_output_regressor.score(x_test, y_test)\n",
    "print(\"Model accuracy:\", accuracy)\n"
   ]
  },
  {
   "cell_type": "markdown",
   "metadata": {},
   "source": []
  },
  {
   "cell_type": "code",
   "execution_count": null,
   "metadata": {},
   "outputs": [
    {
     "data": {
      "text/plain": [
       "[<matplotlib.lines.Line2D at 0x252fcbbf210>]"
      ]
     },
     "execution_count": 17,
     "metadata": {},
     "output_type": "execute_result"
    },
    {
     "data": {
      "image/png": "[encoded data removed]",
      "text/plain": [
       "<Figure size 640x480 with 1 Axes>"
      ]
     },
     "metadata": {},
     "output_type": "display_data"
    }
   ],
   "source": [
    "import matplotlib.pyplot as plt\n",
    "plt.plot(y_pred[0])\n",
    "plt.plot(y_test[0])"
   ]
  },
  {
   "cell_type": "code",
   "execution_count": null,
   "metadata": {},
   "outputs": [],
   "source": [
    "def r2_score_multi_output(y_true, y_pred):\n",
    "    # Convert lists to numpy arrays for easier calculations\n",
    "    y_true = np.array(y_true)\n",
    "    y_pred = np.array(y_pred)\n",
    "    \n",
    "    # Calculate the mean of the true values\n",
    "    y_mean = np.mean(y_true, axis=0)\n",
    "    \n",
    "    # Calculate the total sum of squares (SS_tot)\n",
    "    ss_tot = np.sum((y_true - y_mean) ** 2, axis=0)\n",
    "    \n",
    "    # Calculate the residual sum of squares (SS_res)\n",
    "    ss_res = np.sum((y_true - y_pred) ** 2, axis=0)\n",
    "    \n",
    "    # Calculate the R^2 score for each output\n",
    "    r2_scores = 1 - (ss_res / ss_tot)\n",
    "    \n",
    "    # Return the mean R^2 score across all outputs\n",
    "    return np.mean(r2_scores)\n",
    "\n",
    "# Example usage\n",
    "y_true = [[3, -0.5, 2], [2, 0, 0], [4, 1, 2], [3, 2, 1]]\n",
    "y_pred = [[2.5, 0.0, 2], [0, 0, 0], [4, 1, 2], [3, 1.5, 1]]\n",
    "\n",
    "accuracy = r2_score_multi_output(y_true, y_pred)\n",
    "print(f'Custom R^2 score: {accuracy}')"
   ]
  }
 ],
 "metadata": {
  "kernelspec": {
   "display_name": "Python 3",
   "language": "python",
   "name": "python3"
  },
  "language_info": {
   "codemirror_mode": {
    "name": "ipython",
    "version": 3
   },
   "file_extension": ".py",
   "mimetype": "text/x-python",
   "name": "python",
   "nbconvert_exporter": "python",
   "pygments_lexer": "ipython3",
   "version": "3.11.9"
  }
 },
 "nbformat": 4,
 "nbformat_minor": 2
}
